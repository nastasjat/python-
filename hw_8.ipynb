{
 "cells": [
  {
   "cell_type": "code",
   "execution_count": 2,
   "metadata": {},
   "outputs": [
    {
     "name": "stdout",
     "output_type": "stream",
     "text": [
      "Cats that have a hat on:\n",
      "Cat #1\n",
      "Cat #4\n",
      "Cat #9\n",
      "Cat #16\n",
      "Cat #25\n",
      "Cat #36\n",
      "Cat #49\n",
      "Cat #64\n",
      "Cat #81\n",
      "Cat #100\n"
     ]
    }
   ],
   "source": [
    "def find_cats():\n",
    "    cats = 100 * [False]\n",
    "\n",
    "    for i in range(1, 101):\n",
    "        for cat in range(i, 101, i):\n",
    "            cats[cat - 1] = not cats[cat - 1]\n",
    "\n",
    "    print(\"Cats that have a hat on:\")\n",
    "    for i, hat_on in enumerate(cats):\n",
    "        if hat_on:\n",
    "            print(f\"Cat #{i+1}\")\n",
    "\n",
    "\n",
    "find_cats()\n"
   ]
  }
 ],
 "metadata": {
  "kernelspec": {
   "display_name": "Python 3",
   "language": "python",
   "name": "python3"
  },
  "language_info": {
   "codemirror_mode": {
    "name": "ipython",
    "version": 3
   },
   "file_extension": ".py",
   "mimetype": "text/x-python",
   "name": "python",
   "nbconvert_exporter": "python",
   "pygments_lexer": "ipython3",
   "version": "3.10.10"
  },
  "orig_nbformat": 4
 },
 "nbformat": 4,
 "nbformat_minor": 2
}
