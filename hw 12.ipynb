{
 "cells": [
  {
   "cell_type": "code",
   "execution_count": 1,
   "metadata": {},
   "outputs": [
    {
     "name": "stdout",
     "output_type": "stream",
     "text": [
      "Receipt #12546:\n",
      "1 Salad 4.00\n",
      "1 Soda  5.00\n",
      "Total:  9.00\n"
     ]
    },
    {
     "ename": "PermissionError",
     "evalue": "Permission denied",
     "output_type": "error",
     "traceback": [
      "\u001b[1;31m---------------------------------------------------------------------------\u001b[0m",
      "\u001b[1;31mPermissionError\u001b[0m                           Traceback (most recent call last)",
      "Cell \u001b[1;32mIn[1], line 20\u001b[0m\n\u001b[0;32m     15\u001b[0m     \u001b[39mprint\u001b[39m(\u001b[39m\"\u001b[39m\u001b[39mReceipt #12546:\u001b[39m\u001b[39m\\n\u001b[39;00m\u001b[39m\"\u001b[39m \u001b[39m\"\u001b[39m\u001b[39m1 Salad 4.00\u001b[39m\u001b[39m\\n\u001b[39;00m\u001b[39m\"\u001b[39m \u001b[39m\"\u001b[39m\u001b[39m1 Soda  5.00\u001b[39m\u001b[39m\\n\u001b[39;00m\u001b[39m\"\u001b[39m \u001b[39m\"\u001b[39m\u001b[39mTotal:  9.00\u001b[39m\u001b[39m\"\u001b[39m)\n\u001b[0;32m     18\u001b[0m show_customer_receipt(user_type\u001b[39m=\u001b[39m\u001b[39m\"\u001b[39m\u001b[39madmin\u001b[39m\u001b[39m\"\u001b[39m)\n\u001b[1;32m---> 20\u001b[0m show_customer_receipt(user_type\u001b[39m=\u001b[39;49m\u001b[39m\"\u001b[39;49m\u001b[39muser\u001b[39;49m\u001b[39m\"\u001b[39;49m)\n",
      "Cell \u001b[1;32mIn[1], line 8\u001b[0m, in \u001b[0;36mis_admin.<locals>.wrapper\u001b[1;34m(*args, **kwargs)\u001b[0m\n\u001b[0;32m      5\u001b[0m     \u001b[39mreturn\u001b[39;00m func(\u001b[39m*\u001b[39margs, \u001b[39m*\u001b[39m\u001b[39m*\u001b[39mkwargs)\n\u001b[0;32m      7\u001b[0m \u001b[39melse\u001b[39;00m:\n\u001b[1;32m----> 8\u001b[0m     \u001b[39mraise\u001b[39;00m \u001b[39mPermissionError\u001b[39;00m(\u001b[39m\"\u001b[39m\u001b[39mPermission denied\u001b[39m\u001b[39m\"\u001b[39m)\n",
      "\u001b[1;31mPermissionError\u001b[0m: Permission denied"
     ]
    }
   ],
   "source": [
    "def is_admin(func):\n",
    "    def wrapper(*args, **kwargs):\n",
    "        user_type = kwargs.get(\"user_type\")\n",
    "        if user_type == \"admin\":\n",
    "            return func(*args, **kwargs)\n",
    "\n",
    "        else:\n",
    "            raise PermissionError(\"Permission denied\")\n",
    "\n",
    "    return wrapper\n",
    "\n",
    "\n",
    "@is_admin\n",
    "def show_customer_receipt(user_type: str):\n",
    "    print(\"Receipt #12546:\\n\" \"1 Salad 4.00\\n\" \"1 Soda  5.00\\n\" \"Total:  9.00\")\n",
    "\n",
    "\n",
    "show_customer_receipt(user_type=\"admin\")\n",
    "\n",
    "show_customer_receipt(user_type=\"user\")"
   ]
  },
  {
   "cell_type": "code",
   "execution_count": 16,
   "metadata": {},
   "outputs": [
    {
     "name": "stdout",
     "output_type": "stream",
     "text": [
      "London Warsaw Kyiv\n",
      "An error occured during the execution of your function: KeyError\n"
     ]
    }
   ],
   "source": [
    "def catch_errors(func):\n",
    "    def wrapper(*args, **kwargs):\n",
    "        try:\n",
    "            return func(*args, **kwargs)\n",
    "\n",
    "        except Exception as error:\n",
    "            print(\n",
    "                f\"An error occured during the execution of your function: {type(error).__name__}\"\n",
    "            )\n",
    "\n",
    "    return wrapper\n",
    "\n",
    "\n",
    "@catch_errors\n",
    "def get_capitals(data):\n",
    "    print(data[\"UK\"], data[\"Poland\"], data[\"Ukraine\"])\n",
    "\n",
    "\n",
    "get_capitals({\"UK\": \"London\", \"Poland\": \"Warsaw\", \"Ukraine\": \"Kyiv\"})\n",
    "get_capitals({\"Germany\": \"Berlin\"})"
   ]
  }
 ],
 "metadata": {
  "kernelspec": {
   "display_name": "Python 3",
   "language": "python",
   "name": "python3"
  },
  "language_info": {
   "codemirror_mode": {
    "name": "ipython",
    "version": 3
   },
   "file_extension": ".py",
   "mimetype": "text/x-python",
   "name": "python",
   "nbconvert_exporter": "python",
   "pygments_lexer": "ipython3",
   "version": "3.10.10"
  },
  "orig_nbformat": 4
 },
 "nbformat": 4,
 "nbformat_minor": 2
}
